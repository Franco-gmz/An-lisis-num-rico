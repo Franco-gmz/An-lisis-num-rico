{
  "nbformat": 4,
  "nbformat_minor": 0,
  "metadata": {
    "colab": {
      "name": "F1.ipynb",
      "provenance": [],
      "collapsed_sections": [],
      "authorship_tag": "ABX9TyMxHzL6kvKfiAGxrOUIAKp1",
      "include_colab_link": true
    },
    "kernelspec": {
      "name": "python3",
      "display_name": "Python 3"
    },
    "language_info": {
      "name": "python"
    }
  },
  "cells": [
    {
      "cell_type": "markdown",
      "metadata": {
        "id": "view-in-github",
        "colab_type": "text"
      },
      "source": [
        "<a href=\"https://colab.research.google.com/github/Franco-gmz/AnalisisNumerico/blob/main/F1.ipynb\" target=\"_parent\"><img src=\"https://colab.research.google.com/assets/colab-badge.svg\" alt=\"Open In Colab\"/></a>"
      ]
    },
    {
      "cell_type": "code",
      "metadata": {
        "id": "Cg9aSgvuOFuI"
      },
      "source": [
        "import numpy as np \n",
        "import matplotlib.pyplot as plt\n",
        "from sympy import *"
      ],
      "execution_count": 25,
      "outputs": []
    },
    {
      "cell_type": "markdown",
      "metadata": {
        "id": "h-cMcmJQZUOo"
      },
      "source": [
        "#Ejercicio F1"
      ]
    },
    {
      "cell_type": "code",
      "metadata": {
        "colab": {
          "base_uri": "https://localhost:8080/",
          "height": 265
        },
        "id": "WKzWoAHabLJH",
        "outputId": "64aa20b8-fbc6-4189-c0ef-caa4f925e689"
      },
      "source": [
        "x = np.linspace(-3,3,1000)\n",
        "plt.plot(x,np.abs(x),'r')\n",
        "plt.show()"
      ],
      "execution_count": 26,
      "outputs": [
        {
          "output_type": "display_data",
          "data": {
            "image/png": "[encoded data removed]",
            "text/plain": [
              "<Figure size 432x288 with 1 Axes>"
            ]
          },
          "metadata": {
            "tags": [],
            "needs_background": "light"
          }
        }
      ]
    },
    {
      "cell_type": "code",
      "metadata": {
        "id": "zxdvLxG0h1OV"
      },
      "source": [
        "x, n = symbols('x n')\n",
        "\n",
        "def coeficiente_an():\n",
        "  an = integrate( Abs(x)*(cos((2*pi*n*x)/6)),(x, -3, 3) )\n",
        "  return an\n",
        "\n",
        "def coeficiente_bn():\n",
        "  bn = integrate( Abs(x)*(sin((2*pi*n*x)/6)),(x, -3, 3) )\n",
        "  return bn"
      ],
      "execution_count": 27,
      "outputs": []
    },
    {
      "cell_type": "code",
      "metadata": {
        "id": "vACFRZiLj1ou"
      },
      "source": [
        "an = coeficiente_an()"
      ],
      "execution_count": 28,
      "outputs": []
    },
    {
      "cell_type": "code",
      "metadata": {
        "colab": {
          "base_uri": "https://localhost:8080/"
        },
        "id": "ekX5zqnKnBKe",
        "outputId": "58752e43-73e4-4b76-8fab-428846c42de4"
      },
      "source": [
        "bn = coeficiente_bn()\n",
        "print(bn.evalf()) #correcto porque es una funcion par"
      ],
      "execution_count": 29,
      "outputs": [
        {
          "output_type": "stream",
          "text": [
            "0\n"
          ],
          "name": "stdout"
        }
      ]
    },
    {
      "cell_type": "code",
      "metadata": {
        "id": "wgLmy2LWnHce"
      },
      "source": [
        "def ECM(orden):\n",
        "  t1 = (1/6)*integrate(Abs(x)**2,(x,-3,3)) #trivial, pero para ver que funciona\n",
        "  if (orden == 0): return t1\n",
        "  t2 = ((an.evalf(subs={n:0}))**2)/4 #(a0^2)/4\n",
        "  t3 = 0\n",
        "  for i in range(1,orden+1): #sumario de los coeficientes al cuadrado hasta llegar al orden especificado \n",
        "    t3 += ( (an.evalf(subs={n:i})**2) + (bn.evalf(subs={n:i})**2) ) #an^2 + bn^2\n",
        "  t3 = (1/2)*t3\n",
        "\n",
        "  resultado = t1 -t2 -t3\n",
        "  return np.abs(resultado)"
      ],
      "execution_count": 30,
      "outputs": []
    },
    {
      "cell_type": "code",
      "metadata": {
        "id": "hwvA4Z7Mqch5"
      },
      "source": [
        "ecm_ = []\n",
        "k = range(1,51)\n",
        "\n",
        "for i in k:\n",
        "  ecm_ += [ECM(i)] #guardo los ECM para k = 1, ... , 20"
      ],
      "execution_count": 33,
      "outputs": []
    },
    {
      "cell_type": "code",
      "metadata": {
        "colab": {
          "base_uri": "https://localhost:8080/",
          "height": 244
        },
        "id": "OnslZ78atWl-",
        "outputId": "feba7647-078b-43bb-da9c-57c4e1dee0f9"
      },
      "source": [
        "fig,ax = plt.subplots(figsize=(20,3))\n",
        "ax.bar(x=k,height=ecm_,width=.5,color='r')\n",
        "ax.set_xticks(k)\n",
        "ax.set_xticklabels(list(map(lambda x: str(x),k)))\n",
        "ax.set_title(\"ECM\")\n",
        "ax.set_ylabel('ECM',fontdict=dict(fontsize=12))\n",
        "ax.set_xlabel('Valor de n',fontdict=dict(fontsize=12))\n",
        "plt.show()"
      ],
      "execution_count": 36,
      "outputs": [
        {
          "output_type": "display_data",
          "data": {
            "image/png": "[encoded data removed]",
            "text/plain": [
              "<Figure size 1440x216 with 1 Axes>"
            ]
          },
          "metadata": {
            "tags": [],
            "needs_background": "light"
          }
        }
      ]
    },
    {
      "cell_type": "code",
      "metadata": {
        "colab": {
          "base_uri": "https://localhost:8080/",
          "height": 244
        },
        "id": "dIYhCY3HxI3i",
        "outputId": "df81655a-c52e-4af9-f66f-88113036a29c"
      },
      "source": [
        "an_2 = []\n",
        "idx = range(0,20)\n",
        "for i in idx:\n",
        "  an_2 += [(an.evalf(subs={n:i}))**2] #guardo los an^2\n",
        "\n",
        "fig,ax = plt.subplots(figsize=(20,3))\n",
        "ax.bar(x=idx,height=an_2,width=.5,color='r')\n",
        "ax.set_xticks(idx)\n",
        "ax.set_xticklabels(list(map(lambda x: str(x),idx)))\n",
        "ax.set_title(\"Coeficientes an al cuadrado\")\n",
        "ax.set_ylabel('an^2',fontdict=dict(fontsize=12))\n",
        "ax.set_xlabel('Valor de n',fontdict=dict(fontsize=12))\n",
        "plt.show()"
      ],
      "execution_count": 38,
      "outputs": [
        {
          "output_type": "display_data",
          "data": {
            "image/png": "[encoded data removed]",
            "text/plain": [
              "<Figure size 1440x216 with 1 Axes>"
            ]
          },
          "metadata": {
            "tags": [],
            "needs_background": "light"
          }
        }
      ]
    }
  ]
}