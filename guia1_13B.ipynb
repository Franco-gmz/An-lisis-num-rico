{
  "nbformat": 4,
  "nbformat_minor": 0,
  "metadata": {
    "colab": {
      "name": "guia1-13B.ipynb",
      "provenance": [],
      "collapsed_sections": [],
      "toc_visible": true,
      "authorship_tag": "ABX9TyMAnwamQqs58+bw7p6kIOrr"
    },
    "kernelspec": {
      "name": "python3",
      "display_name": "Python 3"
    },
    "language_info": {
      "name": "python"
    }
  },
  "cells": [
    {
      "cell_type": "markdown",
      "metadata": {
        "id": "KqzA3Be_67IK"
      },
      "source": [
        "![image.png](data:image/png;base64,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)"
      ]
    },
    {
      "cell_type": "markdown",
      "metadata": {
        "id": "4S0tJHWH8GI0"
      },
      "source": [
        "#13.B.a"
      ]
    },
    {
      "cell_type": "code",
      "metadata": {
        "id": "w3sB4Itm8bhO"
      },
      "source": [
        "import numpy as np\n",
        "import matplotlib.pyplot as plt\n",
        "import pandas as pd"
      ],
      "execution_count": null,
      "outputs": []
    },
    {
      "cell_type": "code",
      "metadata": {
        "id": "e0DbtVggCc8x"
      },
      "source": [
        "def n_term(x,n):\n",
        "  return ( np.math.pow(-1,n)*np.math.pow(x,2*n+1) / ( (np.math.factorial(n)) * (np.math.factorial(n+1)) * (np.math.pow(2,2*n+1)) ))"
      ],
      "execution_count": null,
      "outputs": []
    },
    {
      "cell_type": "code",
      "metadata": {
        "id": "qS0hx4OU6fXU"
      },
      "source": [
        "err_expected = np.float64(1e-6)"
      ],
      "execution_count": null,
      "outputs": []
    },
    {
      "cell_type": "code",
      "metadata": {
        "id": "1chVdieHHltC"
      },
      "source": [
        "def summation(x = np.float64(10.1051), n = 2, p = 0):\n",
        "  x = x*(1-p)\n",
        "  y = n_term(x,n)\n",
        "  err = -n_term(x,n+1)\n",
        "  i = 0\n",
        "  while(err > err_expected):\n",
        "    print('n:',n,'  --- y:',y,'  --- error:',err)\n",
        "    n +=1\n",
        "    y += n_term(x,n)\n",
        "    err = np.absolute(n_term(x,n+1))\n",
        "  return y,err,x,n"
      ],
      "execution_count": null,
      "outputs": []
    },
    {
      "cell_type": "code",
      "metadata": {
        "colab": {
          "base_uri": "https://localhost:8080/"
        },
        "id": "cAn3YgkVGC3D",
        "outputId": "29cfd745-dc52-439f-c29c-03f97931a46c"
      },
      "source": [
        "y,err,x,n = summation()\n",
        "print('Y = ',y,' ---- Error = ',err,' ---- X = ',x)\n",
        "print('Terminos sumados: ',n-2,' desde el termino n = 2 hasta n = ',n)"
      ],
      "execution_count": null,
      "outputs": [
        {
          "output_type": "stream",
          "text": [
            "n: 2   --- y: 274.39225820101973   --- error: 583.7297768014275\n",
            "n: 3   --- y: -309.3375186004078   --- error: 745.0803194491401\n",
            "n: 4   --- y: 435.7428008487323   --- error: 634.0201745087962\n",
            "n: 5   --- y: -198.27737366006392   --- error: 385.3674479219342\n",
            "n: 6   --- y: 187.09007426187026   --- error: 175.6743033053962\n",
            "n: 7   --- y: 11.415770956474063   --- error: 62.28693825068964\n",
            "n: 8   --- y: 73.70270920716371   --- error: 17.66752497615194\n",
            "n: 9   --- y: 56.03518423101177   --- error: 4.100192706301426\n",
            "n: 10   --- y: 60.1353769373132   --- error: 0.7929605425538334\n",
            "n: 11   --- y: 59.34241639475936   --- error: 0.12976220571460603\n",
            "n: 12   --- y: 59.47217860047397   --- error: 0.018201118245184958\n",
            "n: 13   --- y: 59.45397748222878   --- error: 0.002212585267623836\n",
            "n: 14   --- y: 59.4561900674964   --- error: 0.00023534773045200095\n",
            "n: 15   --- y: 59.45595471976595   --- error: 2.2088302966906485e-05\n",
            "n: 16   --- y: 59.45597680806892   --- error: 1.8427319421099195e-06\n",
            "Y =  59.45597496533698  ---- Error =  1.3754895583974185e-07  ---- X =  10.1051\n",
            "Terminos sumados:  15  desde el termino n = 2 hasta n =  17\n"
          ],
          "name": "stdout"
        }
      ]
    },
    {
      "cell_type": "markdown",
      "metadata": {
        "id": "k7VcVv-c8Nqk"
      },
      "source": [
        "#13.B.b\n",
        "\n",
        "![image.png](data:image/png;base64,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)\n"
      ]
    },
    {
      "cell_type": "code",
      "metadata": {
        "id": "PlMB3fvKAKhM"
      },
      "source": [
        "def get_cp(n, r,x = np.float64(10.1051)):\n",
        "  sum = 0\n",
        "  xr = x*(1-r)\n",
        "  y = 0\n",
        "  yr = 0\n",
        "  i=2\n",
        "  while(i < n+2):\n",
        "    yr = n_term(xr,i)\n",
        "    y=n_term(x,i)\n",
        "    i +=1\n",
        "  return ( np.absolute(yr-y)/np.absolute(y*r) )"
      ],
      "execution_count": null,
      "outputs": []
    },
    {
      "cell_type": "code",
      "metadata": {
        "id": "GLAXAMr897QM"
      },
      "source": [
        "steps = 15\n",
        "cp = []\n",
        "r = [-1e-10,-1e-9,-1e-8,-1e-7,-1e-6,-1e-5,-1e-4,-1e-3,1e-3,1e-4,1e-5,1e-6,1e-7,1e-8,1e-9,1e-10]\n",
        "df = pd.DataFrame(columns=[''])\n",
        "for i in r:\n",
        "  cp += [get_cp(steps,i)]\n"
      ],
      "execution_count": null,
      "outputs": []
    },
    {
      "cell_type": "code",
      "metadata": {
        "id": "Wl0t2SOS8Ukg"
      },
      "source": [
        "df = pd.DataFrame(columns=['xr','cp'])\n",
        "df.xr = r\n",
        "df.cp = cp"
      ],
      "execution_count": null,
      "outputs": []
    },
    {
      "cell_type": "code",
      "metadata": {
        "id": "hT-ApDu-E7OD"
      },
      "source": [
        "exponents = [-10,-9,-8,-7,-6,-5,-4,-3,3,4,5,6,7,8,9,10]"
      ],
      "execution_count": null,
      "outputs": []
    },
    {
      "cell_type": "code",
      "metadata": {
        "id": "AIVCPEGnGRVJ"
      },
      "source": [
        "df = df.assign(exp=exponents)"
      ],
      "execution_count": null,
      "outputs": []
    },
    {
      "cell_type": "code",
      "metadata": {
        "colab": {
          "base_uri": "https://localhost:8080/"
        },
        "id": "DATh1i-a9HXy",
        "outputId": "801ca6ad-185f-47c9-c006-3b811bd68107"
      },
      "source": [
        "df.cp.min()"
      ],
      "execution_count": null,
      "outputs": [
        {
          "output_type": "execute_result",
          "data": {
            "text/plain": [
              "32.47741531623446"
            ]
          },
          "metadata": {
            "tags": []
          },
          "execution_count": 113
        }
      ]
    },
    {
      "cell_type": "code",
      "metadata": {
        "colab": {
          "base_uri": "https://localhost:8080/",
          "height": 627
        },
        "id": "fYo09ytfHKft",
        "outputId": "a7a46304-8ef5-4269-b223-23a234494ffd"
      },
      "source": [
        "fig,ax = plt.subplots(figsize=(27,12));\n",
        "width = 0.35 \n",
        "bar_plot = ax.bar(np.arange(0,16),df.cp,width,color='g')\n",
        "labels = np.arange(0,16)\n",
        "ax.set_ylabel('Cp experimental',fontdict=dict(fontsize=25))\n",
        "ax.set_xlabel('Perturbación',fontdict=dict(fontsize=25))\n",
        "ax.set_xticks(labels)\n",
        "ax.set_xticklabels(('-1e-10', '-1e-9', '-1e-8', '-1e-7','-1e-6', '-1e-5', '-1e-4', '-1e-3', '1e-3', '1e-4', '1e-5', '1e-6','1e-7', '1e-8', '1e-9', '1e-10'),fontdict=dict(fontsize=16))\n",
        "ax.set_title('Cp experimental - X: 10.1051',loc='center',fontdict=dict(fontsize=30))\n",
        "for bar in bar_plot:\n",
        "  height = bar.get_height()\n",
        "  \n",
        "  c = 'k'\n",
        "  if(height == 32.47741531623446):\n",
        "    c='r'\n",
        "    bar.set_facecolor(c)\n",
        "  ax.text(bar.get_x() + bar.get_width()/2,34,'%f'%float(height),ha='center',va='bottom',fontdict=dict(fontsize=13,fontweight=900),color=c)\n",
        "\n",
        "\n",
        "plt.show()\n"
      ],
      "execution_count": null,
      "outputs": [
        {
          "output_type": "display_data",
          "data": {
            "image/png": "[encoded data removed]",
            "text/plain": [
              "<Figure size 1944x864 with 1 Axes>"
            ]
          },
          "metadata": {
            "tags": [],
            "needs_background": "light"
          }
        }
      ]
    }
  ]
}